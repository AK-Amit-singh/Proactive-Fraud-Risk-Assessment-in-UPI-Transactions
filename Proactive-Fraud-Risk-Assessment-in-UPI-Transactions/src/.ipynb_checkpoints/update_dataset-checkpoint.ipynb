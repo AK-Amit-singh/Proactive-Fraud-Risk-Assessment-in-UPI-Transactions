{
 "cells": [
  {
   "cell_type": "markdown",
   "id": "3279e32e",
   "metadata": {},
   "source": [
    "# CREATING THE FINAL DATASET"
   ]
  },
  {
   "cell_type": "markdown",
   "id": "d73598ff",
   "metadata": {},
   "source": [
    "IMPORTING THE RAW DATASET"
   ]
  },
  {
   "cell_type": "code",
   "execution_count": null,
   "id": "ee03cf6c",
   "metadata": {},
   "outputs": [],
   "source": [
    "import pandas as pd"
   ]
  },
  {
   "cell_type": "code",
   "execution_count": null,
   "id": "1d519db4",
   "metadata": {},
   "outputs": [],
   "source": [
    "full_path = r'C:\\Users\\anshu\\OneDrive\\Desktop\\UPI-UPI\\upiFraudDetection-main\\dataset\\upi_fraud_dataset.csv'\n"
   ]
  },
  {
   "cell_type": "code",
   "execution_count": null,
   "id": "08758dfa",
   "metadata": {},
   "outputs": [],
   "source": [
    "dataset = pd.read_csv(full_path)\n"
   ]
  },
  {
   "cell_type": "code",
   "execution_count": null,
   "id": "7528f19b",
   "metadata": {},
   "outputs": [],
   "source": [
    "dataset.head()"
   ]
  },
  {
   "cell_type": "markdown",
   "id": "e1eb503f",
   "metadata": {},
   "source": [
    "ANALYSING THE DATASET"
   ]
  },
  {
   "cell_type": "code",
   "execution_count": null,
   "id": "ed5f95ec",
   "metadata": {
    "scrolled": true
   },
   "outputs": [],
   "source": [
    "dataset.shape"
   ]
  },
  {
   "cell_type": "code",
   "execution_count": null,
   "id": "707ce912",
   "metadata": {},
   "outputs": [],
   "source": [
    "dataset.info()"
   ]
  },
  {
   "cell_type": "code",
   "execution_count": null,
   "id": "8e8dd1e3",
   "metadata": {},
   "outputs": [],
   "source": [
    "fraud = dataset[dataset['fraud_risk'] == 1]\n",
    "valid = dataset[dataset['fraud_risk'] == 0]"
   ]
  },
  {
   "cell_type": "code",
   "execution_count": null,
   "id": "3790ec99",
   "metadata": {},
   "outputs": [],
   "source": [
    "print(\"Number of fraud data :\", len(fraud))\n",
    "print(\"Number of valid data :\", len(valid))"
   ]
  },
  {
   "cell_type": "code",
   "execution_count": null,
   "id": "0b1ecd5c",
   "metadata": {},
   "outputs": [],
   "source": [
    "import seaborn as sns"
   ]
  },
  {
   "cell_type": "code",
   "execution_count": null,
   "id": "91866465",
   "metadata": {},
   "outputs": [],
   "source": [
    "sns.countplot(x = 'fraud_risk', data = dataset)"
   ]
  },
  {
   "cell_type": "markdown",
   "id": "f5474ba7",
   "metadata": {},
   "source": [
    "BALANCING THE DATASET USING \"SMOTE\" "
   ]
  },
  {
   "cell_type": "code",
   "execution_count": null,
   "id": "8a37d50a",
   "metadata": {},
   "outputs": [],
   "source": [
    "\n",
    "from imblearn.over_sampling import SMOTE"
   ]
  },
  {
   "cell_type": "code",
   "execution_count": null,
   "id": "5eac9fd6",
   "metadata": {},
   "outputs": [],
   "source": [
    "X = dataset.drop('fraud_risk', axis=1)\n",
    "y = dataset['fraud_risk']"
   ]
  },
  {
   "cell_type": "code",
   "execution_count": null,
   "id": "7c7e3937",
   "metadata": {},
   "outputs": [],
   "source": [
    "smote = SMOTE(random_state=42)"
   ]
  },
  {
   "cell_type": "code",
   "execution_count": null,
   "id": "fc6a1473",
   "metadata": {},
   "outputs": [],
   "source": [
    "X_resampled, y_resampled = smote.fit_resample(X, y)"
   ]
  },
  {
   "cell_type": "code",
   "execution_count": null,
   "id": "fb52d120",
   "metadata": {},
   "outputs": [],
   "source": [
    "dataset = pd.DataFrame(X_resampled, columns=dataset.columns[:-1])\n",
    "dataset['fraud_risk'] = y_resampled"
   ]
  },
  {
   "cell_type": "code",
   "execution_count": null,
   "id": "8b3b5b52",
   "metadata": {},
   "outputs": [],
   "source": [
    "print(dataset.columns)"
   ]
  },
  {
   "cell_type": "markdown",
   "id": "1a81583e",
   "metadata": {},
   "source": [
    "CALCULATING THE TRANSACTION TIME, DAY, MONTH, AND YEAR"
   ]
  },
  {
   "cell_type": "code",
   "execution_count": null,
   "id": "4d5352ee",
   "metadata": {},
   "outputs": [],
   "source": [
    "dataset['trans_datetime'] = pd.to_datetime(dataset['trans_datetime'])"
   ]
  },
  {
   "cell_type": "code",
   "execution_count": null,
   "id": "b5c9388f",
   "metadata": {},
   "outputs": [],
   "source": [
    "dataset.insert(2, 'trans_hour', dataset['trans_datetime'].dt.hour)\n",
    "dataset.insert(3, 'trans_day', dataset['trans_datetime'].dt.day)\n",
    "dataset.insert(4, 'trans_month', dataset['trans_datetime'].dt.month)\n",
    "dataset.insert(5, 'trans_year', dataset['trans_datetime'].dt.year)"
   ]
  },
  {
   "cell_type": "markdown",
   "id": "a6dfb769",
   "metadata": {},
   "source": [
    "CALCULATING THE AGE"
   ]
  },
  {
   "cell_type": "code",
   "execution_count": null,
   "id": "4f7c348c",
   "metadata": {},
   "outputs": [],
   "source": [
    "dataset['dob'] = pd.to_datetime(dataset['dob'])"
   ]
  },
  {
   "cell_type": "code",
   "execution_count": null,
   "id": "1af2eaec",
   "metadata": {},
   "outputs": [],
   "source": [
    "import numpy as np"
   ]
  },
  {
   "cell_type": "code",
   "execution_count": null,
   "id": "8eff002e",
   "metadata": {},
   "outputs": [],
   "source": [
    "dataset.insert(11, 'age', np.round((dataset['trans_datetime'] - dataset['dob']) // np.timedelta64(1, 'Y')))"
   ]
  },
  {
   "cell_type": "markdown",
   "id": "5654a687",
   "metadata": {},
   "source": [
    "DELETING THE REDUNDANT FEATURES"
   ]
  },
  {
   "cell_type": "code",
   "execution_count": null,
   "id": "90398102",
   "metadata": {},
   "outputs": [],
   "source": [
    "del dataset['trans_id']\n",
    "del dataset['trans_datetime']\n",
    "del dataset['merchant']\n",
    "del dataset['card_holder_name']\n",
    "del dataset['gender']\n",
    "del dataset['dob']"
   ]
  },
  {
   "cell_type": "code",
   "execution_count": null,
   "id": "25658bf2",
   "metadata": {},
   "outputs": [],
   "source": [
    "dataset.head()"
   ]
  },
  {
   "cell_type": "markdown",
   "id": "c255a7c6",
   "metadata": {},
   "source": [
    "USING LABELENCODER"
   ]
  },
  {
   "cell_type": "code",
   "execution_count": null,
   "id": "64907846",
   "metadata": {},
   "outputs": [],
   "source": [
    "from sklearn.preprocessing import LabelEncoder\n",
    "labelencoder = LabelEncoder()"
   ]
  },
  {
   "cell_type": "code",
   "execution_count": null,
   "id": "05de0703",
   "metadata": {},
   "outputs": [],
   "source": [
    "dataset['category'] = labelencoder.fit_transform(dataset['category'])\n",
    "dataset['state'] = labelencoder.fit_transform(dataset['state'])"
   ]
  },
  {
   "cell_type": "code",
   "execution_count": null,
   "id": "a49525f7",
   "metadata": {},
   "outputs": [],
   "source": [
    "dataset.head()"
   ]
  },
  {
   "cell_type": "markdown",
   "id": "4b95da19",
   "metadata": {},
   "source": [
    "SAVING THE FINAL DATASET"
   ]
  },
  {
   "cell_type": "code",
   "execution_count": null,
   "id": "db82704f",
   "metadata": {},
   "outputs": [],
   "source": [
    "import os.path"
   ]
  },
  {
   "cell_type": "code",
   "execution_count": null,
   "id": "d26c2fda",
   "metadata": {},
   "outputs": [],
   "source": [
    "if os.path.isfile('../dataset/train_dataset.csv') is False:\n",
    "    dataset.to_csv('../dataset/train_dataset.csv')"
   ]
  },
  {
   "cell_type": "markdown",
   "id": "beae894a",
   "metadata": {},
   "source": [
    "ANALYSING THE UPDATED DATASET"
   ]
  },
  {
   "cell_type": "code",
   "execution_count": null,
   "id": "009bb7d3",
   "metadata": {},
   "outputs": [],
   "source": [
    "dataset.shape"
   ]
  },
  {
   "cell_type": "code",
   "execution_count": null,
   "id": "6522186f",
   "metadata": {},
   "outputs": [],
   "source": [
    "dataset.info()"
   ]
  },
  {
   "cell_type": "code",
   "execution_count": null,
   "id": "09f2cd5b",
   "metadata": {},
   "outputs": [],
   "source": [
    "fraud = dataset[dataset['fraud_risk'] == 1]\n",
    "valid = dataset[dataset['fraud_risk'] == 0]"
   ]
  },
  {
   "cell_type": "code",
   "execution_count": null,
   "id": "23b09892",
   "metadata": {},
   "outputs": [],
   "source": [
    "print(\"Number of fraud data :\", len(fraud))\n",
    "print(\"Number of valid data :\", len(valid))"
   ]
  },
  {
   "cell_type": "code",
   "execution_count": null,
   "id": "cffb6fc9",
   "metadata": {},
   "outputs": [],
   "source": [
    "sns.countplot(x = 'fraud_risk', data = dataset)"
   ]
  },
  {
   "cell_type": "code",
   "execution_count": null,
   "id": "8d91d814",
   "metadata": {},
   "outputs": [],
   "source": [
    "dataset.nunique()"
   ]
  },
  {
   "cell_type": "code",
   "execution_count": null,
   "id": "2a3177fd",
   "metadata": {},
   "outputs": [],
   "source": [
    "dataset.to_csv('../dataset/upi_fraud_dataset.csv')\n"
   ]
  },
  {
   "cell_type": "code",
   "execution_count": null,
   "id": "bdcd26bb",
   "metadata": {},
   "outputs": [],
   "source": [
    "print(\"Successfully created 'upi_fraud_dataset.csv' in the 'dataset' folder.\")\n"
   ]
  }
 ],
 "metadata": {
  "kernelspec": {
   "display_name": "Python 3",
   "language": "python",
   "name": "python3"
  },
  "language_info": {
   "codemirror_mode": {
    "name": "ipython",
    "version": 3
   },
   "file_extension": ".py",
   "mimetype": "text/x-python",
   "name": "python",
   "nbconvert_exporter": "python",
   "pygments_lexer": "ipython3",
   "version": "3.10.11"
  }
 },
 "nbformat": 4,
 "nbformat_minor": 5
}
